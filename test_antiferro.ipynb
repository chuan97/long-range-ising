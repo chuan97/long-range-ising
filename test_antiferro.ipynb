{
 "cells": [
  {
   "cell_type": "code",
   "execution_count": 4,
   "metadata": {},
   "outputs": [],
   "source": [
    "import numpy as np\n",
    "import matplotlib.pyplot as plt\n",
    "from scipy.optimize import curve_fit\n",
    "from scipy.linalg import eigvalsh, eigh\n",
    "\n",
    "import algo\n",
    "import utils\n",
    "import interactions\n",
    "import dicke\n",
    "import dicke_general"
   ]
  },
  {
   "cell_type": "code",
   "execution_count": null,
   "metadata": {},
   "outputs": [],
   "source": [
    "N = 10\n",
    "M = int(np.sqrt(N) * np.log(N))\n",
    "beta = 10\n",
    "wz = 1\n",
    "J0s = np.linspace(0.1, 2.0, 200)\n",
    "alpha = 0.3\n",
    "\n",
    "gs = 0.00 * np.ones(N)\n",
    "\n",
    "J = interactions.powerlaw_obc(N, alpha)\n",
    "J = interactions.shift(J, 0.0)\n",
    "\n",
    "mags = []\n",
    "for J0 in J0s:\n",
    "    J = J0 * interactions.rescale(J)\n",
    "    ws, lams = utils.dicke_from_ising(J, 1e-6)\n",
    "    #print(ws[-1] * J0)\n",
    "    #print(np.sqrt(N) * lams[:, 0])\n",
    "    #plt.imshow(lams)\n",
    "    #plt.show()\n",
    "    #ws, lams = utils.truncate_dicke(ws, lams, M)\n",
    "    mags.append(dicke.mag_longitudinal_hessian_debug(beta, wz, ws, np.sqrt(N) * lams, gs, N)[0])\n",
    "mags = np.abs(np.array(mags))\n",
    "\n",
    "plt.plot(J0s, mags)\n",
    "plt.axvline(0.25, c='k', lw=0.5)\n",
    "plt.axhline(1.00, c='k', lw=0.5)\n",
    "plt.xlabel(r'$\\Gamma$')\n",
    "plt.ylabel(r'$\\langle \\sigma^x \\rangle$')\n",
    "plt.show()"
   ]
  }
 ],
 "metadata": {
  "kernelspec": {
   "display_name": "base",
   "language": "python",
   "name": "python3"
  },
  "language_info": {
   "codemirror_mode": {
    "name": "ipython",
    "version": 3
   },
   "file_extension": ".py",
   "mimetype": "text/x-python",
   "name": "python",
   "nbconvert_exporter": "python",
   "pygments_lexer": "ipython3",
   "version": "3.10.9"
  },
  "orig_nbformat": 4
 },
 "nbformat": 4,
 "nbformat_minor": 2
}
